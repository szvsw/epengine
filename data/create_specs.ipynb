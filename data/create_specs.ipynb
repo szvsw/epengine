{
 "cells": [
  {
   "cell_type": "code",
   "execution_count": 1,
   "metadata": {},
   "outputs": [
    {
     "name": "stdout",
     "output_type": "stream",
     "text": [
      "Done\n"
     ]
    }
   ],
   "source": [
    "import json\n",
    "import re\n",
    "import shutil\n",
    "from pathlib import Path\n",
    "\n",
    "import pandas as pd\n",
    "\n",
    "epws = [p.name for p in (Path(\"epws\").glob(\"*.epw\"))]\n",
    "idfs = [p.name for p in (Path(\"idfs\").glob(\"*.idf\"))]\n",
    "\n",
    "df = pd.MultiIndex.from_product([epws, idfs], names=[\"epw_path\", \"idf_path\"]).to_frame(\n",
    "    index=False\n",
    ")\n",
    "df[\"typology\"] = df.idf_path.str.split(\"_\").str[0]\n",
    "df[\"wmo_index\"] = df.epw_path.apply(lambda x: re.findall(r\"\\.(\\d+)\", x)[0])\n",
    "\n",
    "with open(\"specs.json\", \"w\") as f:\n",
    "    json.dump(df.to_dict(orient=\"records\"), f)\n",
    "\n",
    "shutil.make_archive(\"epws\", \"zip\", \"epws\")\n",
    "shutil.make_archive(\"idfs\", \"zip\", \"idfs\")\n",
    "\n",
    "print(\"Done\")"
   ]
  }
 ],
 "metadata": {
  "kernelspec": {
   "display_name": ".venv",
   "language": "python",
   "name": "python3"
  },
  "language_info": {
   "codemirror_mode": {
    "name": "ipython",
    "version": 3
   },
   "file_extension": ".py",
   "mimetype": "text/x-python",
   "name": "python",
   "nbconvert_exporter": "python",
   "pygments_lexer": "ipython3",
   "version": "3.9.18"
  }
 },
 "nbformat": 4,
 "nbformat_minor": 2
}
